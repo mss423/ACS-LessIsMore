{
  "nbformat": 4,
  "nbformat_minor": 0,
  "metadata": {
    "colab": {
      "provenance": [],
      "toc_visible": true,
      "authorship_tag": "ABX9TyNmKKinOlFL6uux0d/W4enr",
      "include_colab_link": true
    },
    "kernelspec": {
      "name": "python3",
      "display_name": "Python 3"
    },
    "language_info": {
      "name": "python"
    }
  },
  "cells": [
    {
      "cell_type": "markdown",
      "metadata": {
        "id": "view-in-github",
        "colab_type": "text"
      },
      "source": [
        "<a href=\"https://colab.research.google.com/github/mss423/ACS-LessIsMore/blob/main/experiments_driver.ipynb\" target=\"_parent\"><img src=\"https://colab.research.google.com/assets/colab-badge.svg\" alt=\"Open In Colab\"/></a>"
      ]
    },
    {
      "cell_type": "code",
      "execution_count": null,
      "metadata": {
        "id": "mV4H4_9jYxfI"
      },
      "outputs": [],
      "source": [
        "from load_data import *\n",
        "import pandas as pd\n",
        "\n",
        "datadir = \"/Users/maxspringer/Documents/GitHub/ACS-LessIsMore/datasets\"\n",
        "savedir = \"/Users/maxspringer/Documents/GitHub/ACS-LessIsMore/results\"\n",
        "dataset = 'sst2'\n",
        "\n",
        "# Load data_df, train and test\n",
        "train_df = load_train_data(datadir, dataset)\n",
        "test_df  = load_test_data(datadir, dataset)\n",
        "\n",
        "# Run subsampling on train\n",
        "Ks = [len(train_df)//10]\n",
        "train_subsample_idx = acs_sample(train_df, Ks)\n",
        "results_df = pd.DataFrame(columns=['K','acc','f1'])\n",
        "\n",
        "# Train models\n",
        "for K in Ks:\n",
        "\tk_samples = train_subsample_idx[K]\n",
        "\ttrain, dev = []\n",
        "\ttest_result = train_bert()\n",
        "\tacc, f1 = Metric(test_df.label, test_result.prediction)\n",
        "\tpd.concat([results_df, pd.DataFrame({'K': K, 'acc': [acc], 'f1': [f1]})], ignore_index=True)\n",
        "\n",
        "# Save results\n",
        "results_df.to_csv(os.path.join(savedir, f\"{dataset}_results.csv\"), index=False)"
      ]
    }
  ]
}