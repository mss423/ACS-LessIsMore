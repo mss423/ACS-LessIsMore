{
  "cells": [
    {
      "cell_type": "markdown",
      "metadata": {
        "id": "view-in-github",
        "colab_type": "text"
      },
      "source": [
        "<a href=\"https://colab.research.google.com/github/mss423/ACS-LessIsMore/blob/main/downsample-driver.ipynb\" target=\"_parent\"><img src=\"https://colab.research.google.com/assets/colab-badge.svg\" alt=\"Open In Colab\"/></a>"
      ]
    },
    {
      "cell_type": "markdown",
      "metadata": {
        "id": "_xI0GR9Sck52"
      },
      "source": [
        "Clone GitHub project"
      ]
    },
    {
      "cell_type": "code",
      "execution_count": 1,
      "metadata": {
        "colab": {
          "base_uri": "https://localhost:8080/"
        },
        "id": "ZFayiZRgbJKY",
        "outputId": "f722aec8-9bc4-45e9-c9ff-9554b86fff20"
      },
      "outputs": [
        {
          "output_type": "stream",
          "name": "stdout",
          "text": [
            "Cloning into 'ACS-LessIsMore'...\n",
            "remote: Enumerating objects: 288, done.\u001b[K\n",
            "remote: Counting objects: 100% (288/288), done.\u001b[K\n",
            "remote: Compressing objects: 100% (197/197), done.\u001b[K\n",
            "remote: Total 288 (delta 157), reused 202 (delta 83), pack-reused 0 (from 0)\u001b[K\n",
            "Receiving objects: 100% (288/288), 16.50 MiB | 9.09 MiB/s, done.\n",
            "Resolving deltas: 100% (157/157), done.\n"
          ]
        }
      ],
      "source": [
        "import os\n",
        "\n",
        "# GitHub cloning...\n",
        "user = \"mss423\"\n",
        "repo = \"ACS-LessIsMore\"\n",
        "\n",
        "# remove local directory if it already exists\n",
        "if os.path.isdir(repo):\n",
        "    !rm -rf {repo}\n",
        "\n",
        "# clone repo\n",
        "!git clone https://github.com/{user}/{repo}.git"
      ]
    },
    {
      "cell_type": "markdown",
      "metadata": {
        "id": "4VsIJT7ecm21"
      },
      "source": [
        "Add codes to pwd"
      ]
    },
    {
      "cell_type": "code",
      "execution_count": 2,
      "metadata": {
        "id": "zXVj_5nScn-d"
      },
      "outputs": [],
      "source": [
        "import sys\n",
        "\n",
        "for dirpath, dirnames, filenames in os.walk(\"ACS-LessIsMore\"):\n",
        "        sys.path.append(dirpath)"
      ]
    },
    {
      "cell_type": "markdown",
      "metadata": {
        "id": "SMDzlB78hrSZ"
      },
      "source": [
        "Authenticate notebook for Google packages"
      ]
    },
    {
      "cell_type": "code",
      "execution_count": 3,
      "metadata": {
        "colab": {
          "base_uri": "https://localhost:8080/"
        },
        "id": "XAdXOGybhuTI",
        "outputId": "c9665ac7-55b6-40fa-b402-f8c057884126"
      },
      "outputs": [
        {
          "output_type": "stream",
          "name": "stdout",
          "text": [
            "Operation \"operations/acat.p2-29476227164-db79622d-76b1-4bc1-b6ae-be5d47b34e34\" finished successfully.\n"
          ]
        }
      ],
      "source": [
        "# if it's Colab runtime, authenticate the user with Google Cloud\n",
        "if \"google.colab\" in sys.modules:\n",
        "    from google.colab import auth\n",
        "\n",
        "    auth.authenticate_user()\n",
        "\n",
        "LOCATION = \"us-central1\"\n",
        "PROJECT_ID = \"synthetic-data-432701\"\n",
        "! gcloud services enable compute.googleapis.com aiplatform.googleapis.com storage.googleapis.com bigquery.googleapis.com --project {PROJECT_ID}"
      ]
    },
    {
      "cell_type": "markdown",
      "metadata": {
        "id": "aflYI8SYdCwy"
      },
      "source": [
        "# Run experiments\n",
        "## Load Data"
      ]
    },
    {
      "cell_type": "code",
      "execution_count": 11,
      "metadata": {
        "id": "mV4H4_9jYxfI",
        "outputId": "be42f885-a468-4604-fae5-a5b5f7f68f2e",
        "colab": {
          "base_uri": "https://localhost:8080/"
        }
      },
      "outputs": [
        {
          "output_type": "stream",
          "name": "stdout",
          "text": [
            "{'path': '/content/ACS-LessIsMore/datasets/FewRel/syn-train.json', 'data': (12801, 2), 'unique_labels': 64}\n",
            "{'path': '/content/ACS-LessIsMore/datasets/FewRel/test.json', 'data': (4480, 2), 'unique_labels': 64}\n",
            "Number of training samples: 12801\n"
          ]
        }
      ],
      "source": [
        "from load_data import *\n",
        "import pandas as pd\n",
        "\n",
        "'''\n",
        "    Load the different dataset's sentences for downsampling\n",
        "    FewRel --> synthetic n = 12800 (cut to 5k)\n",
        "    SST2 --> synthetic n =  6000 (cut to 5k)\n",
        "    ASTE --> synthetic n = 2000\n",
        "    CrossNER --> synthetic n = 3000\n",
        "'''\n",
        "\n",
        "datadir = \"/content/ACS-LessIsMore/datasets\"\n",
        "# savedir = \"/content/ACS-LessIsMore/results\"\n",
        "dataset = 'sst2' # 'fewrel', 'sst2', 'aste', 'crossner'\n",
        "namemap = {'fewrel': 'FewRel', 'sst2': 'SST2', 'aste': 'ASTE', 'crossner': 'CrossNER'}\n",
        "savedir = os.path.join(datadir, namemap[dataset] , \"downsample\")\n",
        "\n",
        "# Load data_df, train and test\n",
        "train_df, num_labels = load_train_data(datadir, dataset, synthetic=True)\n",
        "test_df  = load_test_data(datadir, dataset)\n",
        "\n",
        "#\n",
        "# num_labels = test_df['label'].nunique()\n",
        "print(f\"Number of training samples: {len(train_df)}\")"
      ]
    },
    {
      "cell_type": "code",
      "execution_count": 12,
      "metadata": {
        "id": "iDeSJaN4fjYw"
      },
      "outputs": [],
      "source": [
        "# Downsample train_df to 1000 randomly selected samples for testing\n",
        "if dataset in [\"sst2\", \"fewrel\"]:\n",
        "    train_df = train_df.sample(n=5000, random_state=42)"
      ]
    },
    {
      "cell_type": "markdown",
      "metadata": {
        "id": "tUeLazQAdITd"
      },
      "source": [
        "## Run subsampling"
      ]
    },
    {
      "cell_type": "code",
      "execution_count": 7,
      "metadata": {
        "id": "StE0wpVWkHv-"
      },
      "outputs": [],
      "source": [
        "import numpy as np\n",
        "\n",
        "# Ks = [len(train_df)//10]\n",
        "Ks = np.round(np.linspace(100, len(train_df), 15)).astype(int)\n",
        "# remove final entry as we dont need to run ACS to reobtain the dataset\n",
        "Ks = Ks[:-1]"
      ]
    },
    {
      "cell_type": "markdown",
      "metadata": {
        "id": "zyFyPzfJcuNa"
      },
      "source": [
        "### Downsample"
      ]
    },
    {
      "cell_type": "code",
      "execution_count": 8,
      "metadata": {
        "colab": {
          "base_uri": "https://localhost:8080/"
        },
        "id": "KXRk2hqWdKPb",
        "outputId": "afe82cd6-7ce0-47cf-bdae-d371045e99d0"
      },
      "outputs": [
        {
          "output_type": "stream",
          "name": "stderr",
          "text": [
            "100%|██████████| 313/313 [00:59<00:00,  5.25it/s]\n",
            "Processing Ks...: 100%|██████████| 14/14 [36:41<00:00, 157.25s/it]\n"
          ]
        }
      ],
      "source": [
        "from acs import acs_sample\n",
        "from kmeans_utils import kmeans_sample\n",
        "\n",
        "# train_subsample_idx = acs_sample(train_df, Ks)\n",
        "train_subsample_idx = kmeans_sample(train_df, Ks)"
      ]
    },
    {
      "cell_type": "markdown",
      "metadata": {
        "id": "9dFFdLjrq2dC"
      },
      "source": [
        "Saving..."
      ]
    },
    {
      "cell_type": "code",
      "execution_count": 10,
      "metadata": {
        "colab": {
          "base_uri": "https://localhost:8080/"
        },
        "id": "jUAuWmcZq1uL",
        "outputId": "af1f190f-1017-4acb-bbad-ea15d3dee61a"
      },
      "outputs": [
        {
          "output_type": "stream",
          "name": "stdout",
          "text": [
            "Saved train_subsample_idx to '/content/ACS-LessIsMore/datasets/SST2/downsample/acs_subsample_idx.pkl'.\n"
          ]
        }
      ],
      "source": [
        "import pickle\n",
        "\n",
        "save_name = \"acs_subsample_idx.pkl\"  # Choose your desired save name\n",
        "save_path = os.path.join(savedir, save_name)  # Construct the full save path\n",
        "\n",
        "# Check if a file with the same name already exists\n",
        "if os.path.exists(save_path):\n",
        "    print(f\"Warning: File '{save_name}' already exists.\")\n",
        "else:\n",
        "    # Save train_subsample_idx using pickle\n",
        "    with open(save_path, 'wb') as f:\n",
        "        pickle.dump(train_subsample_idx, f)\n",
        "    print(f\"Saved train_subsample_idx to '{save_path}'.\")"
      ]
    }
  ],
  "metadata": {
    "accelerator": "GPU",
    "colab": {
      "gpuType": "T4",
      "provenance": [],
      "include_colab_link": true
    },
    "kernelspec": {
      "display_name": "Python 3",
      "name": "python3"
    },
    "language_info": {
      "name": "python"
    }
  },
  "nbformat": 4,
  "nbformat_minor": 0
}