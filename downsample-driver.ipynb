{
 "cells": [
  {
   "cell_type": "markdown",
   "metadata": {
    "id": "_xI0GR9Sck52"
   },
   "source": [
    "Clone GitHub project"
   ]
  },
  {
   "cell_type": "code",
   "execution_count": 2,
   "metadata": {
    "colab": {
     "base_uri": "https://localhost:8080/"
    },
    "id": "ZFayiZRgbJKY",
    "outputId": "6afd21cd-891a-411c-cf9d-9e1db0b4c9c5"
   },
   "outputs": [
    {
     "name": "stdout",
     "output_type": "stream",
     "text": [
      "Cloning into 'ACS-LessIsMore'...\n",
      "remote: Enumerating objects: 249, done.\u001b[K\n",
      "remote: Counting objects: 100% (249/249), done.\u001b[K\n",
      "remote: Compressing objects: 100% (169/169), done.\u001b[K\n",
      "remote: Total 249 (delta 136), reused 175 (delta 74), pack-reused 0 (from 0)\u001b[K\n",
      "Receiving objects: 100% (249/249), 15.84 MiB | 8.01 MiB/s, done.\n",
      "Resolving deltas: 100% (136/136), done.\n"
     ]
    }
   ],
   "source": [
    "import os\n",
    "\n",
    "# GitHub cloning...\n",
    "user = \"mss423\"\n",
    "repo = \"ACS-LessIsMore\"\n",
    "\n",
    "# remove local directory if it already exists\n",
    "if os.path.isdir(repo):\n",
    "    !rm -rf {repo}\n",
    "\n",
    "# clone repo\n",
    "!git clone https://github.com/{user}/{repo}.git"
   ]
  },
  {
   "cell_type": "markdown",
   "metadata": {
    "id": "4VsIJT7ecm21"
   },
   "source": [
    "Add codes to pwd"
   ]
  },
  {
   "cell_type": "code",
   "execution_count": 3,
   "metadata": {
    "id": "zXVj_5nScn-d"
   },
   "outputs": [],
   "source": [
    "import sys\n",
    "\n",
    "for dirpath, dirnames, filenames in os.walk(\"ACS-LessIsMore\"):\n",
    "        sys.path.append(dirpath)"
   ]
  },
  {
   "cell_type": "markdown",
   "metadata": {
    "id": "SMDzlB78hrSZ"
   },
   "source": [
    "Authenticate notebook for Google packages"
   ]
  },
  {
   "cell_type": "code",
   "execution_count": 4,
   "metadata": {
    "colab": {
     "base_uri": "https://localhost:8080/"
    },
    "id": "XAdXOGybhuTI",
    "outputId": "cb2383a3-24f4-4867-f1da-a004a01daf9f"
   },
   "outputs": [
    {
     "name": "stdout",
     "output_type": "stream",
     "text": [
      "Operation \"operations/acat.p2-29476227164-61dce8c8-a1d7-4d54-8957-35358052394c\" finished successfully.\n"
     ]
    }
   ],
   "source": [
    "# if it's Colab runtime, authenticate the user with Google Cloud\n",
    "if \"google.colab\" in sys.modules:\n",
    "    from google.colab import auth\n",
    "\n",
    "    auth.authenticate_user()\n",
    "\n",
    "LOCATION = \"us-central1\"\n",
    "PROJECT_ID = \"synthetic-data-432701\"\n",
    "! gcloud services enable compute.googleapis.com aiplatform.googleapis.com storage.googleapis.com bigquery.googleapis.com --project {PROJECT_ID}"
   ]
  },
  {
   "cell_type": "markdown",
   "metadata": {
    "id": "aflYI8SYdCwy"
   },
   "source": [
    "# Run experiments\n",
    "## Load Data"
   ]
  },
  {
   "cell_type": "code",
   "execution_count": null,
   "metadata": {
    "id": "mV4H4_9jYxfI"
   },
   "outputs": [],
   "source": [
    "from load_data import *\n",
    "import pandas as pd\n",
    "\n",
    "'''\n",
    "    Load the different dataset's sentences for downsampling\n",
    "    FewRel --> synthetic n = 12800 (cut to 5k)\n",
    "    SST2 --> synthetic n =  6000 (cut to 5k)\n",
    "    ASTE --> synthetic n = 2000\n",
    "    CrossNER --> synthetic n = 3000\n",
    "'''\n",
    "\n",
    "datadir = \"/content/ACS-LessIsMore/datasets\"\n",
    "# savedir = \"/content/ACS-LessIsMore/results\"\n",
    "dataset = 'sst2' # 'fewrel', 'sst2', 'aste', 'crossner'\n",
    "savedir = os.path.join(datadir, \"FewRel\" if dataset == \"fewrel\" else dataset.upper() , \"downsample\")\n",
    "\n",
    "# Load data_df, train and test\n",
    "train_df, num_labels = load_train_data(datadir, dataset, synthetic=True)\n",
    "test_df  = load_test_data(datadir, dataset)\n",
    "\n",
    "#\n",
    "num_labels = test_df['label'].nunique()\n",
    "print(f\"Number of training samples: {len(train_df)}\")"
   ]
  },
  {
   "cell_type": "code",
   "execution_count": 14,
   "metadata": {
    "id": "iDeSJaN4fjYw"
   },
   "outputs": [],
   "source": [
    "# Downsample train_df to 1000 randomly selected samples for testing\n",
    "if dataset != \"aste\":\n",
    "    train_df = train_df.sample(n=5000, random_state=42)"
   ]
  },
  {
   "cell_type": "markdown",
   "metadata": {
    "id": "tUeLazQAdITd"
   },
   "source": [
    "## Run subsampling"
   ]
  },
  {
   "cell_type": "code",
   "execution_count": null,
   "metadata": {},
   "outputs": [],
   "source": [
    "from acs import acs_sample\n",
    "import numpy as np\n",
    "\n",
    "# Ks = [len(train_df)//10]\n",
    "Ks = np.round(np.linspace(100, len(train_df), 15)).astype(int)\n",
    "# remove final entry as we dont need to run ACS to reobtain the dataset\n",
    "Ks = Ks[:-1]"
   ]
  },
  {
   "cell_type": "markdown",
   "metadata": {
    "id": "zyFyPzfJcuNa"
   },
   "source": [
    "### ACS"
   ]
  },
  {
   "cell_type": "code",
   "execution_count": null,
   "metadata": {
    "colab": {
     "base_uri": "https://localhost:8080/"
    },
    "id": "KXRk2hqWdKPb",
    "outputId": "c328c5a9-a899-4527-861f-6a3e7e7b5c35"
   },
   "outputs": [
    {
     "name": "stderr",
     "output_type": "stream",
     "text": [
      "100%|██████████| 313/313 [01:04<00:00,  4.86it/s]\n"
     ]
    },
    {
     "name": "stdout",
     "output_type": "stream",
     "text": [
      "Processing for K = 100\n",
      "Processing for K = 450\n",
      "Processing for K = 800\n",
      "Processing for K = 1150\n",
      "Processing for K = 1500\n",
      "Processing for K = 1850\n",
      "Processing for K = 2200\n",
      "Processing for K = 2550\n",
      "Processing for K = 2900\n",
      "Processing for K = 3250\n",
      "Processing for K = 3600\n",
      "Processing for K = 3950\n",
      "Processing for K = 4300\n",
      "Processing for K = 4650\n"
     ]
    }
   ],
   "source": [
    "train_subsample_idx = acs_sample(train_df, Ks)"
   ]
  },
  {
   "cell_type": "markdown",
   "metadata": {
    "id": "9dFFdLjrq2dC"
   },
   "source": [
    "Saving..."
   ]
  },
  {
   "cell_type": "code",
   "execution_count": 19,
   "metadata": {
    "colab": {
     "base_uri": "https://localhost:8080/"
    },
    "id": "jUAuWmcZq1uL",
    "outputId": "14320469-3e64-4188-e396-55db5508c4dd"
   },
   "outputs": [
    {
     "name": "stdout",
     "output_type": "stream",
     "text": [
      "Saved train_subsample_idx to '/content/ACS-LessIsMore/datasets/SST2/downsample/acs_subsample_idx.pkl'.\n"
     ]
    }
   ],
   "source": [
    "import pickle\n",
    "\n",
    "save_name = \"acs_subsample_idx.pkl\"  # Choose your desired save name\n",
    "save_path = os.path.join(savedir, save_name)  # Construct the full save path\n",
    "\n",
    "# Check if a file with the same name already exists\n",
    "if os.path.exists(save_path):\n",
    "    print(f\"Warning: File '{save_name}' already exists.\")\n",
    "else:\n",
    "    # Save train_subsample_idx using pickle\n",
    "    with open(save_path, 'wb') as f:\n",
    "        pickle.dump(train_subsample_idx, f)\n",
    "    print(f\"Saved train_subsample_idx to '{save_path}'.\")"
   ]
  }
 ],
 "metadata": {
  "accelerator": "GPU",
  "colab": {
   "gpuType": "T4",
   "provenance": []
  },
  "kernelspec": {
   "display_name": "Python 3",
   "name": "python3"
  },
  "language_info": {
   "name": "python"
  }
 },
 "nbformat": 4,
 "nbformat_minor": 0
}
